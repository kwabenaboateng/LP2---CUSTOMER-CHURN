{
 "cells": [
  {
   "cell_type": "markdown",
   "metadata": {
    "id": "XrXwa1AmIA9z"
   },
   "source": [
    "## Importing Packages"
   ]
  },
  {
   "cell_type": "code",
   "execution_count": 1,
   "metadata": {
    "id": "cjPESgHTbF2_"
   },
   "outputs": [
    {
     "ename": "ModuleNotFoundError",
     "evalue": "No module named 'tabulate'",
     "output_type": "error",
     "traceback": [
      "\u001b[1;31m---------------------------------------------------------------------------\u001b[0m",
      "\u001b[1;31mModuleNotFoundError\u001b[0m                       Traceback (most recent call last)",
      "Cell \u001b[1;32mIn[1], line 47\u001b[0m\n\u001b[0;32m     44\u001b[0m \u001b[38;5;28;01mfrom\u001b[39;00m \u001b[38;5;21;01msklearn\u001b[39;00m\u001b[38;5;21;01m.\u001b[39;00m\u001b[38;5;21;01mensemble\u001b[39;00m \u001b[38;5;28;01mimport\u001b[39;00m GradientBoostingRegressor\n\u001b[0;32m     46\u001b[0m \u001b[38;5;66;03m# Other packages\u001b[39;00m\n\u001b[1;32m---> 47\u001b[0m \u001b[38;5;28;01mfrom\u001b[39;00m \u001b[38;5;21;01mtabulate\u001b[39;00m \u001b[38;5;28;01mimport\u001b[39;00m tabulate\n\u001b[0;32m     48\u001b[0m \u001b[38;5;28;01mimport\u001b[39;00m \u001b[38;5;21;01mos\u001b[39;00m\u001b[38;5;241m,\u001b[39m \u001b[38;5;21;01mpickle\u001b[39;00m\n\u001b[0;32m     50\u001b[0m \u001b[38;5;28;01mimport\u001b[39;00m \u001b[38;5;21;01mwarnings\u001b[39;00m\n",
      "\u001b[1;31mModuleNotFoundError\u001b[0m: No module named 'tabulate'"
     ]
    }
   ],
   "source": [
    "#import the required libraries\n",
    "import numpy as np \n",
    "import pandas as pd \n",
    "import seaborn as sns \n",
    "import matplotlib.ticker as mtick  \n",
    "import matplotlib.pyplot as plt\n",
    "%matplotlib inline\n",
    "import plotly.express as px\n",
    "import plotly.graph_objs as go\n",
    "\n",
    "from sklearn import metrics\n",
    "from sklearn.model_selection import train_test_split\n",
    "from sklearn.metrics import recall_score\n",
    "from sklearn.metrics import classification_report\n",
    "from sklearn.metrics import confusion_matrix\n",
    "from sklearn.tree import DecisionTreeClassifier\n",
    "from imblearn.combine import SMOTEENN\n",
    "\n",
    "# Feature Processing (Scikit-learn processing, etc. )\n",
    "from sklearn.impute import SimpleImputer\n",
    "from sklearn.model_selection import train_test_split\n",
    "from sklearn.preprocessing import OrdinalEncoder\n",
    "from sklearn.preprocessing import LabelEncoder, OneHotEncoder\n",
    "from sklearn.preprocessing import StandardScaler\n",
    "from sklearn.preprocessing import MinMaxScaler\n",
    "from collections import Counter\n",
    "from imblearn.over_sampling import RandomOverSampler\n",
    "import scipy.stats as stats\n",
    "from scipy.stats import chi2_contingency\n",
    "\n",
    "# Machine Learning (Scikit-learn Estimators, Catboost, LightGBM, etc. )\n",
    "from sklearn.datasets import make_classification\n",
    "from sklearn.tree import DecisionTreeClassifier\n",
    "from sklearn.ensemble import GradientBoostingClassifier, RandomForestClassifier\n",
    "from sklearn.linear_model import LogisticRegression, SGDClassifier\n",
    "from sklearn.neighbors import KNeighborsClassifier\n",
    "from sklearn.svm import SVC\n",
    "from sklearn.metrics import accuracy_score, precision_score, recall_score, f1_score, roc_curve, auc, fbeta_score\n",
    "from sklearn.metrics import confusion_matrix\n",
    "\n",
    "# Hyperparameters Fine-tuning (Scikit-learn hp search, cross-validation, etc. )\n",
    "from sklearn.model_selection import KFold, cross_val_score\n",
    "from sklearn.model_selection import GridSearchCV\n",
    "from sklearn.ensemble import GradientBoostingRegressor\n",
    "\n",
    "# Other packages\n",
    "from tabulate import tabulate\n",
    "import os, pickle\n",
    "\n",
    "import warnings\n",
    "warnings.filterwarnings('ignore')\n",
    "\n",
    "import pickle"
   ]
  },
  {
   "cell_type": "markdown",
   "metadata": {},
   "source": [
    "##  Load Data"
   ]
  },
  {
   "cell_type": "code",
   "execution_count": null,
   "metadata": {
    "colab": {
     "base_uri": "https://localhost:8080/",
     "height": 1000
    },
    "id": "rLH1UZXpbiR8",
    "outputId": "1ddd4738-6d2d-460a-f0ea-ff975e84cec6"
   },
   "outputs": [],
   "source": [
    "voda = pd.read_csv('Telco-Customer-Churn.csv')\n",
    "\n",
    "voda.sample(50)"
   ]
  },
  {
   "cell_type": "markdown",
   "metadata": {
    "id": "An4g84QBbpVa"
   },
   "source": [
    "### Data Understanding\n",
    "This is a telecommunications company's customer dataset, containing various demographic and usage information for each customer, as well as whether or not they have churned (i.e. cancelled their service). Here are the meanings of the columns:\n",
    "\n",
    "- customerID: unique identifier for each customer\n",
    "- gender: customer gender (Male/Female)\n",
    "- SeniorCitizen: indicates if the customer is a senior citizen or not (1, 0)\n",
    "- Partner: indicates if the customer has a partner or not (Yes, No)\n",
    "- Dependents: indicates if the customer has dependents or not (Yes, No)\n",
    "- tenure: number of months the customer has stayed with the company\n",
    "- PhoneService: indicates if the customer has a phone service or not (Yes, No)\n",
    "- MultipleLines: indicates if the customer has multiple lines or not (Yes, No, No phone service)\n",
    "- InternetService: type of internet service the customer has (DSL, Fiber optic, No)\n",
    "- OnlineSecurity: indicates if the customer has online security or not (Yes, No, No internet service)\n",
    "- DeviceProtection: indicates if the customer has device protection or not (Yes, No, No internet service)\n",
    "- TechSupport: indicates if the customer has tech support or not (Yes, No, No internet service)\n",
    "- StreamingTV: indicates if the customer has streaming TV or not (Yes, No, No internet service)\n",
    "- StreamingMovies: indicates if the customer has streaming movies or not (Yes, No, No internet service)\n",
    "- Contract: type of contract the customer has (Month-to-month, One year, Two year)\n",
    "- PaperlessBilling: indicates if the customer has paperless billing or not (Yes, No)\n",
    "- PaymentMethod: payment method used by the customer (Electronic check, Mailed check, Bank transfer (automatic), Credit card (automatic))\n",
    "- MonthlyCharges: amount charged to the customer monthly\n",
    "- TotalCharges: total amount charged to the customer\n",
    "- Churn: indicates if the customer has churned or not (Yes, No)"
   ]
  },
  {
   "cell_type": "markdown",
   "metadata": {},
   "source": [
    "## Exploratory Data Analysis"
   ]
  },
  {
   "cell_type": "markdown",
   "metadata": {},
   "source": [
    "#### Data Overview"
   ]
  },
  {
   "cell_type": "code",
   "execution_count": null,
   "metadata": {
    "colab": {
     "base_uri": "https://localhost:8080/"
    },
    "id": "Ee5TxKl45KfO",
    "outputId": "1ef69f85-9b0e-4d4b-8d0f-5af0d3abada5"
   },
   "outputs": [],
   "source": [
    "# Checking the data types of all the columns\n",
    "voda.dtypes"
   ]
  },
  {
   "cell_type": "code",
   "execution_count": null,
   "metadata": {
    "colab": {
     "base_uri": "https://localhost:8080/",
     "height": 143
    },
    "id": "nDrFoaGH5KcK",
    "outputId": "8ade23d0-3b12-433a-cae4-cbec5d7372c8"
   },
   "outputs": [],
   "source": [
    "# Check the descriptive statistics of numeric variables\n",
    "voda.describe().T"
   ]
  },
  {
   "cell_type": "markdown",
   "metadata": {
    "id": "2bEYKpT55olJ"
   },
   "source": [
    "##### Comment\n",
    "\n",
    "SeniorCitizen is actually a categorical hence the 25%-50%-75% distribution is not propoer\n",
    "\n",
    "75% customers have tenure less than 55 months\n",
    "\n",
    "Average Monthly charges are USD 64.76 whereas 25% customers pay more than USD 89.85 per month"
   ]
  },
  {
   "cell_type": "code",
   "execution_count": null,
   "metadata": {
    "colab": {
     "base_uri": "https://localhost:8080/"
    },
    "id": "eFrKlnE-f5Wk",
    "outputId": "a9a9b9ff-21b2-4c18-9085-67ffda5a5935"
   },
   "outputs": [],
   "source": [
    "voda.info()"
   ]
  },
  {
   "cell_type": "markdown",
   "metadata": {},
   "source": [
    "#### Issues with Dataset:\n",
    "* Datatype issues : Total charges should be in float dtype\n",
    "* No missing data\n",
    "* No duplicates\n",
    "* The tenure columns needs to be categorized\n",
    "* There are eleven blank values in the total charges column <br>\n",
    "\n",
    "#### Approach:\n",
    "* Change the datatype of the TotalCharges column to numeric.\n",
    "* Fill the null values with '0' since those columns correspond to customers that have not began their sbscription with the telco company.\n",
    "* Binning the tenure columns\n",
    "* Encoding the Churn column into 1's and 0's"
   ]
  },
  {
   "cell_type": "markdown",
   "metadata": {
    "id": "fwdujdgr95Kf"
   },
   "source": [
    "#### Data Cleaning"
   ]
  },
  {
   "cell_type": "code",
   "execution_count": null,
   "metadata": {
    "id": "CunLnwPu5KG3"
   },
   "outputs": [],
   "source": [
    "#Create a copy of the original data\n",
    "data = voda.copy() "
   ]
  },
  {
   "cell_type": "markdown",
   "metadata": {},
   "source": [
    "##### Cleaning TotalCharges Column"
   ]
  },
  {
   "cell_type": "code",
   "execution_count": null,
   "metadata": {
    "colab": {
     "base_uri": "https://localhost:8080/"
    },
    "id": "p8epwx3C5KC_",
    "outputId": "415a3854-201b-4e4b-dde9-7b99e2d7e6c0"
   },
   "outputs": [],
   "source": [
    "#Typecast TotalCharges column to numeric\n",
    "data.TotalCharges = pd.to_numeric(data.TotalCharges, errors='coerce')\n",
    "\n",
    "#Checking number of missing values\n",
    "data.isnull().sum()"
   ]
  },
  {
   "cell_type": "code",
   "execution_count": null,
   "metadata": {
    "id": "rdaEcyr3-w8V"
   },
   "outputs": [],
   "source": [
    "#Fillin with 0s\n",
    "data['TotalCharges'] = data['TotalCharges'].fillna(0)"
   ]
  },
  {
   "cell_type": "markdown",
   "metadata": {},
   "source": [
    "##### Creating bins for tenure column"
   ]
  },
  {
   "cell_type": "code",
   "execution_count": null,
   "metadata": {
    "colab": {
     "base_uri": "https://localhost:8080/"
    },
    "id": "aXZ24o0_BJaW",
    "outputId": "52941d9a-6096-474b-fe4d-71d954df002a"
   },
   "outputs": [],
   "source": [
    "# Create new bin labels\n",
    "labels = [\"1-12\", \"13-24\", \"25-36\",\"37-48\", \"49-60\", \"61-72\"]\n",
    "\n",
    "# Group tenure into new bins and update column\n",
    "data['tenure_group'] = pd.cut(data.tenure, [1, 13, 25, 37, 49, 61, 73], right=False, labels=labels)\n",
    "\n",
    "# Count values in new bins and sort by index\n",
    "tenure_counts = data['tenure_group'].value_counts().sort_index()"
   ]
  },
  {
   "cell_type": "markdown",
   "metadata": {},
   "source": [
    "##### Dropping Columns"
   ]
  },
  {
   "cell_type": "code",
   "execution_count": null,
   "metadata": {
    "colab": {
     "base_uri": "https://localhost:8080/",
     "height": 340
    },
    "id": "JpUd7XJ4-w2P",
    "outputId": "71c53966-390c-46af-8fef-bfc5602e8239"
   },
   "outputs": [],
   "source": [
    "#drop column customerID and tenure\n",
    "data.drop(columns= ['customerID','tenure'], axis=1, inplace=True)"
   ]
  },
  {
   "cell_type": "markdown",
   "metadata": {
    "id": "xA1tQumY7cnj"
   },
   "source": [
    "#### **Questions:**\n",
    "#### 1. What is the most preferred internet service of customers?\n",
    "#### 2. Understand customer demographics with respect to gender?\n",
    "#### 3. Which service is most popular with customers?\n",
    "#### 4. Are customers without dependents likely to have higher charges than those with dependent?"
   ]
  },
  {
   "cell_type": "markdown",
   "metadata": {},
   "source": [
    "#### **Hypothesis**\n",
    "\n",
    "##### **Null Hypothesis** : Senior citizen does not correlate with the tendency of customer churn\n",
    "##### **Alternate Hypothesis** : Senior citizen  correlate with the tendency of customer churn"
   ]
  },
  {
   "cell_type": "markdown",
   "metadata": {
    "id": "px2J3dF9BkVg"
   },
   "source": [
    "### Analysis"
   ]
  },
  {
   "cell_type": "code",
   "execution_count": null,
   "metadata": {},
   "outputs": [],
   "source": [
    "data.head()"
   ]
  },
  {
   "cell_type": "markdown",
   "metadata": {},
   "source": [
    "###### Univariate Analysis"
   ]
  },
  {
   "cell_type": "markdown",
   "metadata": {},
   "source": [
    "##### Univariate Analysis"
   ]
  },
  {
   "cell_type": "code",
   "execution_count": null,
   "metadata": {
    "colab": {
     "base_uri": "https://localhost:8080/",
     "height": 1000
    },
    "id": "tCuaXiVrChRR",
    "outputId": "c16309e6-a2e1-4719-ab1e-335a3f21db38"
   },
   "outputs": [],
   "source": [
    "\n",
    "for i, predictor in enumerate(data.drop(columns=['Churn', 'TotalCharges', 'MonthlyCharges'])):\n",
    "    fig = px.histogram(data, x=predictor, color='Churn', barmode='group',\n",
    "                       color_discrete_sequence=['#1f77b4', '#aec7e8'],\n",
    "                       title=f\"Countplot of {predictor} by Churn\")\n",
    "    fig.update_layout(xaxis_title=predictor, yaxis_title=\"Count\",\n",
    "                      legend_title=\"Churn\", height=400)\n",
    "    fig.show()\n"
   ]
  },
  {
   "cell_type": "code",
   "execution_count": null,
   "metadata": {
    "colab": {
     "base_uri": "https://localhost:8080/",
     "height": 472
    },
    "id": "6jJvU3d8EmvX",
    "outputId": "f51c82e9-5e95-4cb5-f40f-57d35e4e6ec2"
   },
   "outputs": [],
   "source": [
    "Mth_Chgs = sns.kdeplot(data.MonthlyCharges[(data[\"Churn\"] == 'Yes') ],\n",
    "                color=\"Blue\", fill = True, alpha=.5)\n",
    "Mth_Chgs = sns.kdeplot(data.MonthlyCharges[(data[\"Churn\"] == 'No') ],\n",
    "                ax =Mth_Chgs, color=\"Green\", fill= True, alpha=.5)\n",
    "\n",
    "Mth_Chgs.legend([\"Churn\", \"No Churn\"],loc='upper right')\n",
    "Mth_Chgs.set_ylabel('Density')\n",
    "Mth_Chgs.set_xlabel('Monthly Charges')\n",
    "Mth_Chgs.set_title('Monthly charges by churn')\n",
    "\n",
    "plt.show()"
   ]
  },
  {
   "cell_type": "code",
   "execution_count": null,
   "metadata": {
    "colab": {
     "base_uri": "https://localhost:8080/",
     "height": 472
    },
    "id": "u2oy5K5s-wmm",
    "outputId": "5eff3e1c-0d46-4541-b517-5451c6a20a18"
   },
   "outputs": [],
   "source": [
    "tot_Chgs = sns.kdeplot(data.TotalCharges[(data[\"Churn\"] == 'No') ],\n",
    "                color=\"Green\", fill=True, alpha=.5)\n",
    "tot_Chgs = sns.kdeplot(data.TotalCharges[(data[\"Churn\"] == 'Yes') ],\n",
    "                ax =tot_Chgs, color=\"Blue\", fill=True, alpha=.3)\n",
    "tot_Chgs.legend([\"No Churn\",\"Churn\"],loc='upper right')\n",
    "tot_Chgs.set_ylabel('Density')\n",
    "tot_Chgs.set_xlabel('Total Charges')\n",
    "tot_Chgs.set_title('Total charges by churn');\n"
   ]
  },
  {
   "cell_type": "code",
   "execution_count": null,
   "metadata": {
    "colab": {
     "base_uri": "https://localhost:8080/",
     "height": 417
    },
    "id": "nOy9SYI0IA-e",
    "outputId": "7e58a838-10bd-458c-c448-6c013d239a3f"
   },
   "outputs": [],
   "source": [
    "fig = px.scatter(data_frame=data, x='MonthlyCharges', y='TotalCharges', \n",
    "                 trendline='ols', color='Churn', title='Monthly Charges vs Total Charges')\n",
    "\n",
    "fig.update_layout(xaxis_title='Monthly Charges', yaxis_title='Total Charges',\n",
    "                  margin=dict(l=50, r=50, t=50, b=50), height=400)\n",
    "\n",
    "fig.show()"
   ]
  },
  {
   "cell_type": "markdown",
   "metadata": {
    "id": "SHhCE3nVPuha"
   },
   "source": [
    "Derived Insight:\n",
    "\n",
    "**HIGH** Churn seen in case of **Month to month contracts**, **No online security, No Tech support, First year of subscription** and **Fibre Optics Internet**\n",
    "\n",
    "**LOW** Churn is seens in case of **Long term contracts, Subscriptions without internet service** and **The customers engaged for 5+ years**\n"
   ]
  },
  {
   "cell_type": "markdown",
   "metadata": {
    "id": "L1yCUtXBEm2D"
   },
   "source": [
    "##### Hypothesis Testing"
   ]
  },
  {
   "cell_type": "markdown",
   "metadata": {
    "id": "k70x6hS1q95Z"
   },
   "source": [
    "##### Senior citizens and the tendecy to the customer churn\n",
    "\n",
    "Null Hypothesis : Senior citizen does not correlate with the tendency of customer churn.<br>\n",
    "Alternate Hypothesis : Senior citizen correlate with the tendency of customer churn."
   ]
  },
  {
   "cell_type": "code",
   "execution_count": null,
   "metadata": {
    "colab": {
     "base_uri": "https://localhost:8080/",
     "height": 340
    },
    "id": "I2iXOTii-wvl",
    "outputId": "83c6b993-8fda-4879-97d6-85ecf3f2f8e5"
   },
   "outputs": [],
   "source": [
    "data['Churn'] = np.where(data.Churn == 'Yes',1,0)"
   ]
  },
  {
   "cell_type": "code",
   "execution_count": null,
   "metadata": {
    "id": "Cg0MgoqCq5V_"
   },
   "outputs": [],
   "source": [
    "from scipy.stats import chi2_contingency\n",
    "Crosstabresults = pd.crosstab(index= voda['SeniorCitizen'], columns = voda['Churn'])\n",
    "chisqresult  = chi2_contingency(Crosstabresults)"
   ]
  },
  {
   "cell_type": "code",
   "execution_count": null,
   "metadata": {
    "colab": {
     "base_uri": "https://localhost:8080/"
    },
    "id": "iLvfEFQTq4dy",
    "outputId": "7ca02c42-41d2-4aae-b003-30a000ccd013"
   },
   "outputs": [],
   "source": [
    "print('p-value: ', chisqresult[1])"
   ]
  },
  {
   "cell_type": "markdown",
   "metadata": {
    "id": "XFkgJ466rysn"
   },
   "source": [
    "Insights:<br>\n",
    "P-value is less than 0.05, which implies that we reject our null hypothesis. Senior citizen are more likely to churn. "
   ]
  },
  {
   "cell_type": "markdown",
   "metadata": {
    "id": "d7Xe8jqNr5vC"
   },
   "source": [
    "##### Gender and the tendency to customer churn "
   ]
  },
  {
   "cell_type": "markdown",
   "metadata": {},
   "source": [
    "Null Hypothesis :Gender does not correlate with the tendency of customer churn.<br>\n",
    "Alternate Hypothesis : Gender citizen correlate with the tendency of customer churn."
   ]
  },
  {
   "cell_type": "markdown",
   "metadata": {
    "id": "-x6Tiz7zEker"
   },
   "source": [
    "3. Convert all the categorical variables into dummy variables"
   ]
  },
  {
   "cell_type": "code",
   "execution_count": null,
   "metadata": {
    "id": "BeL1mgYBq3kE"
   },
   "outputs": [],
   "source": [
    "Crosstabresults1 = pd.crosstab(index= voda['gender'], columns = voda['Churn'])\n",
    "chisqresult1  = chi2_contingency(Crosstabresults1)"
   ]
  },
  {
   "cell_type": "code",
   "execution_count": null,
   "metadata": {
    "colab": {
     "base_uri": "https://localhost:8080/"
    },
    "id": "xSOSYiCKsING",
    "outputId": "fb5ca63d-f11f-4bab-e369-cbbcff487ece"
   },
   "outputs": [],
   "source": [
    "chisqresult1[1]"
   ]
  },
  {
   "cell_type": "markdown",
   "metadata": {
    "id": "9_6_FquHEyXu"
   },
   "source": [
    "9. Relationship between Monthly Charges and Total Charges"
   ]
  },
  {
   "cell_type": "markdown",
   "metadata": {
    "id": "L59ia7lesUiU"
   },
   "source": [
    "Insights:<br>\n",
    "P-value is greater than 0.05, which implies that we accept our null hypothesis. A customer's tendency to churn soes not depend on their gender."
   ]
  },
  {
   "cell_type": "markdown",
   "metadata": {
    "id": "Y_hqLjI1Ui-n"
   },
   "source": [
    "\n",
    "### 1. What is the most preferred internet service of customers?\n"
   ]
  },
  {
   "cell_type": "code",
   "execution_count": null,
   "metadata": {
    "colab": {
     "base_uri": "https://localhost:8080/",
     "height": 143
    },
    "id": "t2YAuZVuUgFj",
    "outputId": "4601b1b8-26fc-48cb-fadc-450a5eb9930f"
   },
   "outputs": [],
   "source": [
    "#Aggregating count of customers over the internet service columns\n",
    "inter_serv = voda.groupby('InternetService')['customerID'].count().reset_index()\n",
    "inter_serv.rename(columns={'customerID':'Number'}, inplace =True)\n",
    "inter_serv"
   ]
  },
  {
   "cell_type": "code",
   "execution_count": null,
   "metadata": {
    "colab": {
     "base_uri": "https://localhost:8080/",
     "height": 542
    },
    "id": "hsNSV0gUdGxI",
    "outputId": "44c010a8-c9bb-4708-9311-6cac14197276"
   },
   "outputs": [],
   "source": [
    "data_inter_serv = inter_serv['Number']\n",
    "keys = inter_serv['InternetService']\n",
    "\n",
    "fig = px.pie(values=data_inter_serv, names=keys, title='Customer Internet Preference', \n",
    "             color_discrete_sequence=px.colors.sequential.Blues, \n",
    "             labels={'value': 'Number'})\n",
    "\n",
    "fig.update_traces(textposition='inside', textinfo='percent+label', pull=[0.1, 0.1, 0])\n",
    "\n",
    "fig.show()"
   ]
  },
  {
   "cell_type": "markdown",
   "metadata": {
    "id": "Y0RLI84dh5bH"
   },
   "source": [
    "### 2. Understand customer demographics with respect to gender"
   ]
  },
  {
   "cell_type": "code",
   "execution_count": null,
   "metadata": {
    "colab": {
     "base_uri": "https://localhost:8080/",
     "height": 424
    },
    "id": "s70d_4ubh1EK",
    "outputId": "7c4410ec-89be-43c5-9f06-50a49553e445"
   },
   "outputs": [],
   "source": [
    "#Splitting Data into customer demographic columns\n",
    "cus_demo = voda.loc[:,'customerID':'Dependents']\n",
    "cus_demo.rename(columns = {'customerID': 'Number'},inplace = True)\n",
    "cus_demo"
   ]
  },
  {
   "cell_type": "code",
   "execution_count": null,
   "metadata": {
    "id": "6Oj5dLSnh1tI"
   },
   "outputs": [],
   "source": [
    "#Aggregate number of customers over demographic columns: Senior Citizen, Partner and Dependents\n",
    "cus_demo1 = cus_demo.groupby(['SeniorCitizen','gender'])['Number'].count().reset_index()\n",
    "cus_demo2 = cus_demo.groupby(['Partner', 'gender'])['Number'].count().reset_index()\n",
    "cus_demo3 = cus_demo.groupby(['Dependents', 'gender'])['Number'].count().reset_index()"
   ]
  },
  {
   "cell_type": "code",
   "execution_count": null,
   "metadata": {
    "colab": {
     "base_uri": "https://localhost:8080/",
     "height": 1000
    },
    "id": "56-9miBph3BN",
    "outputId": "6e60c9fa-3a5b-4d35-a614-6fb11d51bb76"
   },
   "outputs": [],
   "source": [
    "fig1 = px.bar(cus_demo1, x='SeniorCitizen', y='Number', color='gender', barmode='group',\n",
    "              category_orders={'SeniorCitizen': [0, 1]}, color_discrete_sequence=px.colors.qualitative.Pastel1)\n",
    "\n",
    "fig2 = px.bar(cus_demo2, x='Partner', y='Number', color='gender', barmode='group',\n",
    "              category_orders={'Partner': ['Yes', 'No']}, color_discrete_sequence=px.colors.qualitative.Pastel1)\n",
    "\n",
    "fig3 = px.bar(cus_demo3, x='Dependents', y='Number', color='gender', barmode='group',\n",
    "              category_orders={'Dependents': ['Yes', 'No']}, color_discrete_sequence=px.colors.qualitative.Pastel1)\n",
    "\n",
    "fig1.update_layout(title='Customer Demographics', xaxis_title='Senior Citizen', yaxis_title='Number')\n",
    "fig2.update_layout(xaxis_title='Partner', yaxis_title='Number')\n",
    "fig3.update_layout(xaxis_title='Dependents', yaxis_title='Number')\n",
    "\n",
    "fig1.show()\n",
    "fig2.show()\n",
    "fig3.show()"
   ]
  },
  {
   "cell_type": "markdown",
   "metadata": {
    "id": "Oq8egvLNmWLb"
   },
   "source": [
    "Insights:\n",
    "* Majority of  customers are not senior citizens. That is , the client base is largely young people.\n",
    "* Majority of the customers are not married. \n",
    "* Majority of the customers do not have dependents."
   ]
  },
  {
   "cell_type": "markdown",
   "metadata": {},
   "source": [
    "### 3. Which service is most popular with customers?"
   ]
  },
  {
   "cell_type": "code",
   "execution_count": null,
   "metadata": {
    "id": "sDMQRco9mOlP"
   },
   "outputs": [],
   "source": [
    "#slicing vodafone services from the original data\n",
    "cus_serv = data.loc[:,'PhoneService':'StreamingMovies']\n",
    "\n",
    "#Aggregating the count over the columns\n",
    "serv_tally = cus_serv[cus_serv[['PhoneService','MultipleLines','OnlineSecurity','OnlineBackup','DeviceProtection','TechSupport','StreamingTV','StreamingMovies']]=='Yes'].count()"
   ]
  },
  {
   "cell_type": "code",
   "execution_count": null,
   "metadata": {
    "id": "cmnX50B7mPYN"
   },
   "outputs": [],
   "source": [
    "serv_tally['InternetService'] = inter_serv['Number'].loc[0:1].sum()"
   ]
  },
  {
   "cell_type": "code",
   "execution_count": null,
   "metadata": {
    "colab": {
     "base_uri": "https://localhost:8080/",
     "height": 542
    },
    "id": "CIVKIcEzmQ9j",
    "outputId": "2308c5ea-a295-409e-d3ae-dd8c6546a90b"
   },
   "outputs": [],
   "source": [
    "fig = px.box(data_frame=data, x='Dependents', y='MonthlyCharges', color='Dependents',\n",
    "             color_discrete_sequence=['#1f77b4', '#ff7f0e'])\n",
    "fig.update_layout(title='Monthly Charges by Dependents',\n",
    "                  xaxis_title='Dependents', yaxis_title='Monthly Charges')\n",
    "fig.show()"
   ]
  },
  {
   "cell_type": "code",
   "execution_count": null,
   "metadata": {
    "colab": {
     "base_uri": "https://localhost:8080/",
     "height": 542
    },
    "id": "kkB9duMTmQLH",
    "outputId": "55437b55-d475-4fee-e88b-5c5e163c889b"
   },
   "outputs": [],
   "source": [
    "# Sorting in ascending order\n",
    "serv_tally.sort_values(ascending=True, inplace=True)\n",
    "\n",
    "# Creating a horizontal bar chart\n",
    "fig = go.Figure(go.Bar(\n",
    "    x=serv_tally.values,\n",
    "    y=serv_tally.index,\n",
    "    orientation='h',\n",
    "    marker_color='blue' # Setting color of the bars to blue\n",
    "))\n",
    "\n",
    "fig.update_layout(title='Most Popular Service', xaxis_title='Number of Customers')\n",
    "fig.show()"
   ]
  },
  {
   "cell_type": "markdown",
   "metadata": {
    "id": "T4Nwvt0IoDU5"
   },
   "source": [
    "### 4. Are customers without dependents likely to have higher charges than those with dependent?"
   ]
  },
  {
   "cell_type": "code",
   "execution_count": null,
   "metadata": {
    "colab": {
     "base_uri": "https://localhost:8080/",
     "height": 542
    },
    "id": "W1unXhiqpk-0",
    "outputId": "7d21618d-270e-433a-8051-a77a9b19e716"
   },
   "outputs": [],
   "source": [
    "fig = px.box(data_frame=data, x='Dependents', y='TotalCharges', color='Dependents',\n",
    "             category_orders={'Dependents': ['No', 'Yes']},\n",
    "             color_discrete_sequence=['#1f77b4', '#aec7e8'])\n",
    "fig.update_layout(title='Distribution of Total Charges by Dependents Status',\n",
    "                  xaxis_title='Dependents', yaxis_title='Total Charges')\n",
    "fig.show()"
   ]
  },
  {
   "cell_type": "markdown",
   "metadata": {},
   "source": [
    "### Feature Processing - ML"
   ]
  },
  {
   "cell_type": "code",
   "execution_count": null,
   "metadata": {},
   "outputs": [],
   "source": [
    "data.head()"
   ]
  },
  {
   "cell_type": "code",
   "execution_count": null,
   "metadata": {},
   "outputs": [],
   "source": [
    "y = data['Churn']\n",
    "X = data.drop('Churn', axis =1)"
   ]
  },
  {
   "cell_type": "markdown",
   "metadata": {
    "id": "JwyzmDsHIA-q"
   },
   "source": [
    "#### Feature Scaling"
   ]
  },
  {
   "cell_type": "code",
   "execution_count": null,
   "metadata": {
    "id": "L94ZJ9udIA-t"
   },
   "outputs": [],
   "source": [
    "# initialize MinMaxScaler object with specified parameters\n",
    "scaler = MinMaxScaler(feature_range=(0, 1), copy=True)\n",
    "\n",
    "# select numerical columns to scale\n",
    "num_cols = X.select_dtypes(include='number').columns\n",
    "\n",
    "# scale numerical columns using MinMaxScaler\n",
    "X[num_cols] = scaler.fit_transform(X[num_cols])"
   ]
  },
  {
   "cell_type": "markdown",
   "metadata": {},
   "source": [
    "#### Feature Encoding"
   ]
  },
  {
   "cell_type": "code",
   "execution_count": null,
   "metadata": {
    "colab": {
     "base_uri": "https://localhost:8080/",
     "height": 334
    },
    "id": "iv6VxOzdpkDo",
    "outputId": "050a381a-9565-49b2-8053-a9e9fd054394"
   },
   "outputs": [],
   "source": [
    "X = pd.get_dummies(X)\n",
    "y = LabelEncoder().fit_transform(y)"
   ]
  },
  {
   "cell_type": "markdown",
   "metadata": {
    "id": "tAPdJTOIIA-s"
   },
   "source": [
    "### Data Splitting"
   ]
  },
  {
   "cell_type": "code",
   "execution_count": null,
   "metadata": {
    "id": "66g0GeHZIA-v"
   },
   "outputs": [],
   "source": [
    "x_train,x_eval,y_train,y_eval=train_test_split(X,y,test_size=0.2)"
   ]
  },
  {
   "cell_type": "markdown",
   "metadata": {
    "id": "jdZaHzO5IA-y"
   },
   "source": [
    "### Balancing Dataset"
   ]
  },
  {
   "cell_type": "markdown",
   "metadata": {},
   "source": [
    "Approach:\n",
    "\n",
    "* In  order to balance the dataset, we can either oversample(increase the minority class) or undersample(decreasing the majority class)\n",
    "* With regards to our dataset, it would be best to oversample since undersampling has tendency to remove our Not Churn data from the set."
   ]
  },
  {
   "cell_type": "code",
   "execution_count": null,
   "metadata": {
    "id": "q14F5eFAIA-y"
   },
   "outputs": [],
   "source": [
    "sm = SMOTEENN()\n",
    "X_resampled, y_resampled = sm.fit_resample(x_train,y_train)"
   ]
  },
  {
   "cell_type": "markdown",
   "metadata": {},
   "source": [
    "### Modelling "
   ]
  },
  {
   "cell_type": "markdown",
   "metadata": {},
   "source": [
    "The following models would be used :\n",
    "\n",
    "* Decision Tree Classifier \n",
    "* Random Forest\n",
    "* Gradient Boosting Classifier\n",
    "* Logistic Regression"
   ]
  },
  {
   "cell_type": "markdown",
   "metadata": {
    "id": "abNBUYiJIA-v"
   },
   "source": [
    "#### 1. Decision Tree Classifier - Without balancing"
   ]
  },
  {
   "cell_type": "code",
   "execution_count": null,
   "metadata": {
    "id": "ia6l6Mn1IA-v"
   },
   "outputs": [],
   "source": [
    "tree_clf = DecisionTreeClassifier(criterion = \"gini\",random_state = 100,max_depth=6, min_samples_leaf=8)"
   ]
  },
  {
   "cell_type": "code",
   "execution_count": null,
   "metadata": {
    "colab": {
     "base_uri": "https://localhost:8080/",
     "height": 75
    },
    "id": "o9EdTiTxIA-w",
    "outputId": "b0d1573e-7ad5-4c64-8aea-eaf8296289aa"
   },
   "outputs": [],
   "source": [
    "tree_clf.fit(x_train,y_train)"
   ]
  },
  {
   "cell_type": "markdown",
   "metadata": {},
   "source": [
    "##### Decision Tree Predictions"
   ]
  },
  {
   "cell_type": "code",
   "execution_count": null,
   "metadata": {
    "colab": {
     "base_uri": "https://localhost:8080/"
    },
    "id": "v1Wg73uPIA-w",
    "outputId": "5669ff03-41a6-4361-a5cb-d024f3683bde"
   },
   "outputs": [],
   "source": [
    "tree_clf_pred= tree_clf.predict(x_eval)"
   ]
  },
  {
   "cell_type": "markdown",
   "metadata": {},
   "source": [
    "##### Decision Tree Classification Report"
   ]
  },
  {
   "cell_type": "code",
   "execution_count": null,
   "metadata": {
    "colab": {
     "base_uri": "https://localhost:8080/"
    },
    "id": "9zF8b6FRIA-x",
    "outputId": "d88b042a-ffa0-49aa-aaed-22663245d40e"
   },
   "outputs": [],
   "source": [
    "print(classification_report(y_eval, tree_clf_pred, labels=[0,1]))"
   ]
  },
  {
   "cell_type": "markdown",
   "metadata": {
    "id": "d0kapzc_IA-y"
   },
   "source": [
    "As you can see that the accuracy is quite low, and as it's an imbalanced dataset, we shouldn't consider Accuracy as our metrics to measure the model..\n",
    "\n",
    "Hence, we need to check recall, precision & f1 score for the minority class, and it's quite evident that the precision, recall & f1 score is too low for Class 1, i.e. churned customers.\n",
    "\n",
    "\n"
   ]
  },
  {
   "cell_type": "markdown",
   "metadata": {},
   "source": [
    "##### Decision Tree  Classifier with balancing"
   ]
  },
  {
   "cell_type": "code",
   "execution_count": null,
   "metadata": {
    "id": "aFFQ4vHdIA-z"
   },
   "outputs": [],
   "source": [
    "tree_clf_bal = DecisionTreeClassifier(criterion = \"gini\",random_state = 100,max_depth=6, min_samples_leaf=8)"
   ]
  },
  {
   "cell_type": "code",
   "execution_count": null,
   "metadata": {
    "colab": {
     "base_uri": "https://localhost:8080/"
    },
    "id": "IdW3EkLwLgYh",
    "outputId": "63f58b2d-1e14-433f-b5a7-a7c7e55e17e5"
   },
   "outputs": [],
   "source": [
    "tree_clf_bal.fit(X_resampled,y_resampled)\n",
    "tree_bal_pred = tree_clf_bal.predict(x_eval)\n",
    "\n",
    "print(metrics.classification_report(y_eval,tree_bal_pred))"
   ]
  },
  {
   "cell_type": "code",
   "execution_count": null,
   "metadata": {
    "colab": {
     "base_uri": "https://localhost:8080/"
    },
    "id": "7Ts4OhsWLgUv",
    "outputId": "3c963fb4-c4d7-4160-c00b-135c07ccc259"
   },
   "outputs": [],
   "source": [
    "print(metrics.confusion_matrix(y_eval, tree_bal_pred))"
   ]
  },
  {
   "cell_type": "markdown",
   "metadata": {
    "id": "IMvkRtYXL1_x"
   },
   "source": [
    "Now we can see quite better results, i.e. Accuracy: 62%, and a very good recall, precision & f1 score for minority class.\n",
    "Let's try with some other classifier."
   ]
  },
  {
   "cell_type": "markdown",
   "metadata": {
    "id": "xIL6ImeFMAVf"
   },
   "source": [
    "#### 2. Random Forest Classifier - Without Balancing"
   ]
  },
  {
   "cell_type": "code",
   "execution_count": null,
   "metadata": {
    "id": "GkJ6Ir6kLgE0"
   },
   "outputs": [],
   "source": [
    "forest_clf = RandomForestClassifier(n_estimators=100, criterion='gini', random_state = 100,max_depth=6, min_samples_leaf=8)"
   ]
  },
  {
   "cell_type": "code",
   "execution_count": null,
   "metadata": {
    "colab": {
     "base_uri": "https://localhost:8080/",
     "height": 75
    },
    "id": "oR9wIkvjLgAF",
    "outputId": "651a82f5-ddad-411c-f83e-04e136bf1563"
   },
   "outputs": [],
   "source": [
    "forest_clf.fit(x_train,y_train)"
   ]
  },
  {
   "cell_type": "code",
   "execution_count": null,
   "metadata": {
    "id": "k9PiL3k0Lf76"
   },
   "outputs": [],
   "source": [
    "forest_clf_pred = forest_clf.predict(x_eval)"
   ]
  },
  {
   "cell_type": "code",
   "execution_count": null,
   "metadata": {
    "colab": {
     "base_uri": "https://localhost:8080/"
    },
    "id": "iS5mug7vMSaq",
    "outputId": "50072796-5091-4e93-9f1e-b1c80c8a6066"
   },
   "outputs": [],
   "source": [
    "print(classification_report(y_eval, forest_clf_pred, labels=[0,1]))"
   ]
  },
  {
   "cell_type": "markdown",
   "metadata": {
    "id": "wslq48tlMgFy"
   },
   "source": [
    "##### Comment:\n",
    "\n",
    "Good enough, however lets check with the balance dataset"
   ]
  },
  {
   "cell_type": "markdown",
   "metadata": {},
   "source": [
    "#### 2. Random Forest Classifier - With Balancing"
   ]
  },
  {
   "cell_type": "code",
   "execution_count": null,
   "metadata": {
    "id": "ygLhe-UNMSqk"
   },
   "outputs": [],
   "source": [
    "forest_clf_bal=RandomForestClassifier(n_estimators=100, criterion='gini', random_state = 100,max_depth=6, min_samples_leaf=8)"
   ]
  },
  {
   "cell_type": "code",
   "execution_count": null,
   "metadata": {
    "colab": {
     "base_uri": "https://localhost:8080/",
     "height": 75
    },
    "id": "sf5uK2uoMSvE",
    "outputId": "484dc03a-89ae-42cc-804d-78aff7707354"
   },
   "outputs": [],
   "source": [
    "forest_clf_bal.fit(X_resampled,y_resampled)"
   ]
  },
  {
   "cell_type": "code",
   "execution_count": null,
   "metadata": {
    "id": "xs-CZ0CKM01r"
   },
   "outputs": [],
   "source": [
    "forest_bal_pred = forest_clf_bal.predict(x_eval)"
   ]
  },
  {
   "cell_type": "code",
   "execution_count": null,
   "metadata": {
    "colab": {
     "base_uri": "https://localhost:8080/"
    },
    "id": "jvp2m49CM0-n",
    "outputId": "11c1cca8-e3b1-46b2-e640-e514e5372d3e"
   },
   "outputs": [],
   "source": [
    "print(metrics.classification_report(y_eval, forest_bal_pred))"
   ]
  },
  {
   "cell_type": "code",
   "execution_count": null,
   "metadata": {
    "colab": {
     "base_uri": "https://localhost:8080/"
    },
    "id": "yMLvT8VqM1D_",
    "outputId": "ccd5a085-5b04-4ed6-a705-be53961844cb"
   },
   "outputs": [],
   "source": [
    "print(metrics.confusion_matrix(y_eval, forest_bal_pred))"
   ]
  },
  {
   "cell_type": "markdown",
   "metadata": {
    "id": "XfMkTOxsNOQJ"
   },
   "source": [
    "###### Comment:\n",
    " After balancing, the f1 score has marginally improved at the expense of accuracy. This is because prior balancing, the machine was more biased towards the majority class"
   ]
  },
  {
   "cell_type": "markdown",
   "metadata": {
    "id": "9nc_00rQX2J_"
   },
   "source": [
    "#### 3. Gradient Boosting Classifier Model _without balancing"
   ]
  },
  {
   "cell_type": "code",
   "execution_count": null,
   "metadata": {
    "id": "SC7E2Av0NJGa"
   },
   "outputs": [],
   "source": [
    "gb_clf = GradientBoostingClassifier(criterion='friedman_mse', random_state=100, max_depth=6, min_samples_leaf=8)"
   ]
  },
  {
   "cell_type": "code",
   "execution_count": null,
   "metadata": {
    "colab": {
     "base_uri": "https://localhost:8080/",
     "height": 75
    },
    "id": "3TSZG9k1alkD",
    "outputId": "bb2393cb-7707-4ed7-c9b2-94270e90dea7"
   },
   "outputs": [],
   "source": [
    "gb_clf.fit(x_train, y_train)"
   ]
  },
  {
   "cell_type": "code",
   "execution_count": null,
   "metadata": {
    "colab": {
     "base_uri": "https://localhost:8080/"
    },
    "id": "FY2mMmloNJOv",
    "outputId": "d09c39b4-b302-413f-b249-1fc17ebc051a"
   },
   "outputs": [],
   "source": [
    "gb_clf_pred = gb_clf.predict(x_eval)"
   ]
  },
  {
   "cell_type": "code",
   "execution_count": null,
   "metadata": {
    "colab": {
     "base_uri": "https://localhost:8080/"
    },
    "id": "vZquGzvHNJdQ",
    "outputId": "005c60ca-101c-4691-f070-c11cd16bfbe0"
   },
   "outputs": [],
   "source": [
    "print(classification_report(y_eval, gb_clf_pred, labels=[0,1]))"
   ]
  },
  {
   "cell_type": "markdown",
   "metadata": {
    "id": "XrU8CI10cC5p"
   },
   "source": [
    "#### Gradient Boosting Classifier with balancing"
   ]
  },
  {
   "cell_type": "code",
   "execution_count": null,
   "metadata": {
    "id": "7RXhW5uLcfIB"
   },
   "outputs": [],
   "source": [
    "gb_clf_bal = GradientBoostingClassifier(criterion='friedman_mse', random_state=100, max_depth=6, min_samples_leaf=8)"
   ]
  },
  {
   "cell_type": "code",
   "execution_count": null,
   "metadata": {
    "colab": {
     "base_uri": "https://localhost:8080/"
    },
    "id": "x2k221__cfOh",
    "outputId": "44eb6e27-f3f2-49f8-d175-bba388b16c67"
   },
   "outputs": [],
   "source": [
    "gb_clf_bal.fit(X_resampled,y_resampled)"
   ]
  },
  {
   "cell_type": "code",
   "execution_count": null,
   "metadata": {},
   "outputs": [],
   "source": [
    "gb_bal_pred= gb_clf_bal.predict(x_eval)"
   ]
  },
  {
   "cell_type": "code",
   "execution_count": null,
   "metadata": {
    "colab": {
     "base_uri": "https://localhost:8080/"
    },
    "id": "i6Rxu2czmsuE",
    "outputId": "b388e312-b423-4219-aa41-ce60f2941a49"
   },
   "outputs": [],
   "source": [
    "print(metrics.confusion_matrix(y_eval, gb_bal_pred))"
   ]
  },
  {
   "cell_type": "code",
   "execution_count": null,
   "metadata": {},
   "outputs": [],
   "source": [
    "print(metrics.classification_report(y_eval, gb_bal_pred))"
   ]
  },
  {
   "cell_type": "markdown",
   "metadata": {
    "id": "Bf-Cvv57d9Kp"
   },
   "source": [
    "##### Comment:\n",
    "\n",
    "Yes, a far better result with the Gradient Boosting Model on the balanced dataset.. we can still check for more classifiers"
   ]
  },
  {
   "cell_type": "markdown",
   "metadata": {},
   "source": [
    "#### 4. Logistic Regression - without balancing"
   ]
  },
  {
   "cell_type": "code",
   "execution_count": null,
   "metadata": {
    "id": "D0vvSSu3cfSz"
   },
   "outputs": [],
   "source": [
    "lr = LogisticRegression(C=1.0, random_state=101)"
   ]
  },
  {
   "cell_type": "code",
   "execution_count": null,
   "metadata": {
    "colab": {
     "base_uri": "https://localhost:8080/",
     "height": 75
    },
    "id": "Ydr0IkC3ez7e",
    "outputId": "62d54127-40cb-46b5-f43f-334ab38d25c4"
   },
   "outputs": [],
   "source": [
    "lr.fit(x_train, y_train)"
   ]
  },
  {
   "cell_type": "code",
   "execution_count": null,
   "metadata": {
    "id": "Idl525Nye0Am"
   },
   "outputs": [],
   "source": [
    "# Make predictions on the test data using the fitted model\n",
    "lr_pred = lr.predict(x_eval)"
   ]
  },
  {
   "cell_type": "code",
   "execution_count": null,
   "metadata": {
    "colab": {
     "base_uri": "https://localhost:8080/"
    },
    "id": "bxKHIW3Je0Kv",
    "outputId": "86519acc-b508-4aa1-b70c-d17bcea9b247"
   },
   "outputs": [],
   "source": [
    "print(classification_report(y_eval, lr_pred, labels=[0,1]))"
   ]
  },
  {
   "cell_type": "markdown",
   "metadata": {
    "id": "tRgTkN6GwzWZ"
   },
   "source": [
    "#### Logistic Regression - with balancing"
   ]
  },
  {
   "cell_type": "code",
   "execution_count": null,
   "metadata": {
    "id": "Y14lDYb7wtBv"
   },
   "outputs": [],
   "source": [
    "lr_bal = LogisticRegression(C=1.0, random_state=101)"
   ]
  },
  {
   "cell_type": "code",
   "execution_count": null,
   "metadata": {
    "colab": {
     "base_uri": "https://localhost:8080/"
    },
    "id": "y_JQ1JfFwtF9",
    "outputId": "5e2a1dc7-6303-4c53-e0d4-3ee261916b30"
   },
   "outputs": [],
   "source": [
    "lr_bal.fit(X_resampled,y_resampled)"
   ]
  },
  {
   "cell_type": "code",
   "execution_count": null,
   "metadata": {},
   "outputs": [],
   "source": [
    "lr_bal_pred = lr_bal.predict(x_eval)"
   ]
  },
  {
   "cell_type": "code",
   "execution_count": null,
   "metadata": {
    "colab": {
     "base_uri": "https://localhost:8080/"
    },
    "id": "x7HqLqZgwtN7",
    "outputId": "44a72b62-cf2c-4d3e-fddb-864795a01fac"
   },
   "outputs": [],
   "source": [
    "print(metrics.confusion_matrix(y_eval, lr_bal_pred))"
   ]
  },
  {
   "cell_type": "code",
   "execution_count": null,
   "metadata": {},
   "outputs": [],
   "source": [
    "print(metrics.classification_report(y_eval, lr_bal_pred))"
   ]
  },
  {
   "cell_type": "markdown",
   "metadata": {
    "id": "kI_Rz_Cuzk29"
   },
   "source": [
    "##### Comment\n",
    "We can see this also is far better: Now that we now the balanced data is better in results."
   ]
  },
  {
   "cell_type": "markdown",
   "metadata": {
    "id": "xpNw98eC0NwX"
   },
   "source": [
    " ### Model Evaluation"
   ]
  },
  {
   "cell_type": "code",
   "execution_count": null,
   "metadata": {
    "id": "nRO_SFUp0N3r"
   },
   "outputs": [],
   "source": [
    "metrics_df = pd.DataFrame(columns=['Model', 'Accuracy', 'Precision', 'Recall', 'F1 Score'])"
   ]
  },
  {
   "cell_type": "code",
   "execution_count": null,
   "metadata": {
    "colab": {
     "base_uri": "https://localhost:8080/"
    },
    "id": "2J-2pR7Oe0PL",
    "outputId": "7cb9ffef-180b-45aa-a437-2993754e0a9d"
   },
   "outputs": [],
   "source": [
    "models = [\n",
    "    (DecisionTreeClassifier(criterion=\"gini\", random_state=100, max_depth=6, min_samples_leaf=8), 'Decision Tree'),\n",
    "    (RandomForestClassifier(n_estimators=100, criterion='gini', random_state=100, max_depth=6, min_samples_leaf=8), 'Random Forest Classifier'),\n",
    "    (GradientBoostingClassifier(criterion='friedman_mse', random_state=100, max_depth=6, min_samples_leaf=8), 'Gradient Boosting Classifier'),\n",
    "    (LogisticRegression(C=1.0, random_state=100), 'Logistic Regression Model')\n",
    "]\n",
    "\n",
    "metrics_df = pd.DataFrame(columns=['Model', 'Accuracy', 'Precision', 'Recall', 'F1 Score'])\n",
    "\n",
    "for model, model_name in models:\n",
    "    model.fit(x_train, y_train)\n",
    "    y_pred = model.predict(x_eval)\n",
    "\n",
    "    accuracy = accuracy_score(y_eval, y_pred)\n",
    "    precision = precision_score(y_eval, y_pred)\n",
    "    recall = recall_score(y_eval, y_pred)\n",
    "    f1 = f1_score(y_eval, y_pred)\n",
    "\n",
    "    metrics_df = metrics_df.append({'Model': model_name, 'Accuracy': accuracy,\n",
    "                                    'Precision': precision, 'Recall': recall, 'F1 Score': f1}, ignore_index=True)\n",
    "    \n",
    "    metrics_df = metrics_df.sort_values(by='F1 Score', ascending=False)\n",
    "\n",
    "# Print the final metrics dataframe\n",
    "print(metrics_df)\n"
   ]
  },
  {
   "cell_type": "code",
   "execution_count": null,
   "metadata": {
    "colab": {
     "base_uri": "https://localhost:8080/",
     "height": 175
    },
    "id": "LWgp4BpFfxzg",
    "outputId": "60286e16-d38b-418d-de99-5b3ec9e5f9dd"
   },
   "outputs": [],
   "source": [
    "metrics_df"
   ]
  },
  {
   "cell_type": "code",
   "execution_count": null,
   "metadata": {
    "colab": {
     "base_uri": "https://localhost:8080/"
    },
    "id": "JoDw-3QQbT92",
    "outputId": "bc96b2a2-78bd-4af8-950c-f7a2eaa03692"
   },
   "outputs": [],
   "source": [
    "\n",
    "# Create a list of models and their corresponding parameters\n",
    "models = [\n",
    "    (DecisionTreeClassifier(criterion=\"gini\", random_state=100, max_depth=6, min_samples_leaf=8), 'Decision Tree'),\n",
    "    (RandomForestClassifier(n_estimators=100, criterion='gini', random_state=100, max_depth=6, min_samples_leaf=8), 'Random Forest Classifier'),\n",
    "    (GradientBoostingClassifier(criterion='friedman_mse', random_state=100, max_depth=6, min_samples_leaf=8), 'Gradient Boosting Classifier'),\n",
    "    (LogisticRegression(C=1.0, random_state=100), 'Logistic Regression Model')\n",
    "\n",
    "]\n",
    "\n",
    "metrics_bal_df = pd.DataFrame(columns=['Model', 'Accuracy', 'Precision', 'Recall', 'F1 Score'])\n",
    "\n",
    "sm = SMOTEENN()\n",
    "X_resampled, y_resampled = sm.fit_resample(x_train, y_train)\n",
    "\n",
    "\n",
    "for model, model_name in models:\n",
    "    model.fit(X_resampled, y_resampled)\n",
    "    yr_predict = model.predict(x_eval)\n",
    "\n",
    "    accuracy = accuracy_score(y_eval, yr_predict)\n",
    "    precision = precision_score(y_eval, yr_predict)\n",
    "    recall = recall_score(y_eval, yr_predict)\n",
    "    f1 = f1_score(y_eval, yr_predict)\n",
    "\n",
    "    metrics_bal_df =  metrics_bal_df.append({'Model': model_name, 'Accuracy': accuracy,\n",
    "                                                'Precision': precision, 'Recall': recall, 'F1 Score': f1}, ignore_index=True)\n",
    "\n",
    "# Sort the dataframe in descending order based on Accuracy\n",
    "metrics_bal_df =  metrics_bal_df.sort_values(by='F1 Score', ascending=False)\n",
    "\n",
    "# Print the final metrics dataframe\n",
    "print( metrics_bal_df)\n"
   ]
  },
  {
   "cell_type": "code",
   "execution_count": null,
   "metadata": {
    "colab": {
     "base_uri": "https://localhost:8080/",
     "height": 206
    },
    "id": "mbQhTXPodX6c",
    "outputId": "3baab977-b894-42ba-edd2-3337d89c5673"
   },
   "outputs": [],
   "source": [
    " metrics_bal_df"
   ]
  },
  {
   "cell_type": "markdown",
   "metadata": {
    "colab": {
     "base_uri": "https://localhost:8080/",
     "height": 175
    },
    "id": "W__Ljk5KdlDP",
    "outputId": "43bb5ffe-6f8d-455e-cd00-6ac7df6e9571"
   },
   "source": [
    "##### Comment:\n",
    "\n",
    "From the two tables, it can be observed that:\n",
    "* Balancing the target variables improved the performance of our models\n",
    "* The two best performing models based on the F1 score are Gradient Boosting Classifier and Logistic Regression Classifier."
   ]
  },
  {
   "cell_type": "markdown",
   "metadata": {
    "id": "Gz_JTKmEUEiR"
   },
   "source": [
    "### Hyperparameter Tuning"
   ]
  },
  {
   "cell_type": "code",
   "execution_count": null,
   "metadata": {},
   "outputs": [],
   "source": [
    "models = [ gb_clf_bal, lr_bal]"
   ]
  },
  {
   "cell_type": "markdown",
   "metadata": {},
   "source": [
    "#### Tuning Gradient Boosting Classifier Model"
   ]
  },
  {
   "cell_type": "code",
   "execution_count": null,
   "metadata": {},
   "outputs": [],
   "source": [
    "models[0].get_params()"
   ]
  },
  {
   "cell_type": "code",
   "execution_count": null,
   "metadata": {},
   "outputs": [],
   "source": [
    "gb_clf_params = { 'ccp_alpha': [0.0,0.1,0.2],\n",
    "           'max_depth': [4,6,8],\n",
    "           'min_samples_leaf': [8, 10, 12],\n",
    "          'n_estimators': [100,1000]\n",
    "}"
   ]
  },
  {
   "cell_type": "code",
   "execution_count": null,
   "metadata": {},
   "outputs": [],
   "source": [
    "searcher = GridSearchCV(estimator = gb_clf_bal,\n",
    "                        param_grid = gb_clf_params,\n",
    "                        scoring = ['accuracy','balanced_accuracy','f1','precision','recall','roc_auc'],\n",
    "                        refit = 'balanced_accuracy',\n",
    "                        cv = 5,\n",
    "                        verbose = 3)"
   ]
  },
  {
   "cell_type": "code",
   "execution_count": null,
   "metadata": {},
   "outputs": [],
   "source": [
    "searcher.fit(X_resampled,y_resampled)"
   ]
  },
  {
   "cell_type": "code",
   "execution_count": null,
   "metadata": {},
   "outputs": [],
   "source": [
    "gb_clf_tuned = searcher.best_estimator_"
   ]
  },
  {
   "cell_type": "code",
   "execution_count": null,
   "metadata": {},
   "outputs": [],
   "source": [
    "gb_clf_tuned"
   ]
  },
  {
   "cell_type": "code",
   "execution_count": null,
   "metadata": {},
   "outputs": [],
   "source": [
    "models.append(gb_clf_tuned)"
   ]
  },
  {
   "cell_type": "code",
   "execution_count": null,
   "metadata": {},
   "outputs": [],
   "source": [
    "models"
   ]
  },
  {
   "cell_type": "markdown",
   "metadata": {},
   "source": [
    "#### Tuning the Logistic Regression Model"
   ]
  },
  {
   "cell_type": "code",
   "execution_count": null,
   "metadata": {},
   "outputs": [],
   "source": [
    "models[1].get_params()"
   ]
  },
  {
   "cell_type": "code",
   "execution_count": null,
   "metadata": {},
   "outputs": [],
   "source": [
    "lr_params = { 'C': [1.0,2.0,3.0],\n",
    "           'max_iter': [1000,10000,100000],\n",
    "           'intercept_scaling': [1, 2, 3,]\n",
    "    \n",
    "    \n",
    "}"
   ]
  },
  {
   "cell_type": "code",
   "execution_count": null,
   "metadata": {},
   "outputs": [],
   "source": [
    "searcher_lr = GridSearchCV(estimator = lr_bal,\n",
    "                             param_grid = lr_params,\n",
    "                             scoring = ['accuracy','balanced_accuracy','f1','precision','recall','roc_auc'],\n",
    "                             refit = 'balanced_accuracy',\n",
    "                             cv = 5,\n",
    "                             verbose = 3\n",
    "    )"
   ]
  },
  {
   "cell_type": "code",
   "execution_count": null,
   "metadata": {},
   "outputs": [],
   "source": [
    "searcher_lr.fit(X_resampled, y_resampled)"
   ]
  },
  {
   "cell_type": "code",
   "execution_count": null,
   "metadata": {},
   "outputs": [],
   "source": [
    "lr_tuned = searcher_lr.best_estimator_"
   ]
  },
  {
   "cell_type": "code",
   "execution_count": null,
   "metadata": {},
   "outputs": [],
   "source": [
    "models.append(lr_tuned)"
   ]
  },
  {
   "cell_type": "code",
   "execution_count": null,
   "metadata": {},
   "outputs": [],
   "source": [
    "models"
   ]
  },
  {
   "cell_type": "markdown",
   "metadata": {},
   "source": [
    "### Exporting Key Components"
   ]
  },
  {
   "cell_type": "code",
   "execution_count": null,
   "metadata": {},
   "outputs": [],
   "source": [
    "components = { 'scaler': scaler,\n",
    "               'model': models\n",
    "    }"
   ]
  },
  {
   "cell_type": "code",
   "execution_count": null,
   "metadata": {},
   "outputs": [],
   "source": [
    "components"
   ]
  },
  {
   "cell_type": "code",
   "execution_count": null,
   "metadata": {},
   "outputs": [],
   "source": [
    "#Create Folder\n",
    "!mkdir export"
   ]
  },
  {
   "cell_type": "code",
   "execution_count": null,
   "metadata": {},
   "outputs": [],
   "source": [
    "#Create a destination folder\n",
    "destination = os.path.join('.','export')"
   ]
  },
  {
   "cell_type": "code",
   "execution_count": null,
   "metadata": {},
   "outputs": [],
   "source": [
    "#export\n",
    "with open(os.path.join(destination,'ml.pkl'),'wb') as f:\n",
    "    pickle.dump(components, f)"
   ]
  },
  {
   "cell_type": "code",
   "execution_count": null,
   "metadata": {},
   "outputs": [],
   "source": [
    "#requirements\n",
    "!pip freeze requirement.txt"
   ]
  },
  {
   "cell_type": "code",
   "execution_count": null,
   "metadata": {},
   "outputs": [],
   "source": [
    "#save file in export\n",
    "!pip freeze > export/requirement.txt"
   ]
  }
 ],
 "metadata": {
  "colab": {
   "provenance": []
  },
  "kernelspec": {
   "display_name": "Python 3 (ipykernel)",
   "language": "python",
   "name": "python3"
  },
  "language_info": {
   "codemirror_mode": {
    "name": "ipython",
    "version": 3
   },
   "file_extension": ".py",
   "mimetype": "text/x-python",
   "name": "python",
   "nbconvert_exporter": "python",
   "pygments_lexer": "ipython3",
   "version": "3.11.1"
  }
 },
 "nbformat": 4,
 "nbformat_minor": 1
}
